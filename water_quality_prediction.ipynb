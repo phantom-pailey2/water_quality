{
  "cells": [
    {
      "cell_type": "code",
      "execution_count": 149,
      "metadata": {
        "id": "zdvtAdyhNuOf"
      },
      "outputs": [
        {
          "ename": "",
          "evalue": "",
          "output_type": "error",
          "traceback": [
            "\u001b[1;31mRunning cells with 'Python 3.12.4' requires the ipykernel package.\n",
            "\u001b[1;31mRun the following command to install 'ipykernel' into the Python environment. \n",
            "\u001b[1;31mCommand: 'c:/Users/HP/AppData/Local/Programs/Python/Python312/python.exe -m pip install ipykernel -U --user --force-reinstall'"
          ]
        }
      ],
      "source": [
        "import pandas as pd\n",
        "import numpy as np\n",
        "import seaborn as sns\n",
        "import matplotlib.pyplot as plt\n",
        "from sklearn.multioutput import MultiOutputRegressor\n",
        "from sklearn.ensemble import RandomForestRegressor\n",
        "from sklearn.model_selection import train_test_split\n",
        "from sklearn.metrics import mean_squared_error,r2_score"
      ]
    },
    {
      "cell_type": "code",
      "execution_count": null,
      "metadata": {
        "colab": {
          "base_uri": "https://localhost:8080/",
          "height": 443
        },
        "id": "1ZfwZY8kW2RQ",
        "outputId": "64b7691d-c223-47d4-f1b8-4c7ed84d0c68"
      },
      "outputs": [],
      "source": [
        "df = pd.read_csv('/content/sample_data/Dataset.csv.csv', sep=';')\n",
        "df\n"
      ]
    },
    {
      "cell_type": "code",
      "execution_count": null,
      "metadata": {
        "colab": {
          "base_uri": "https://localhost:8080/"
        },
        "id": "ZR0FscUIXkuf",
        "outputId": "cd2ceab0-1876-4b8b-e824-9f7796c6d05c"
      },
      "outputs": [],
      "source": [
        "\n",
        "df.info()\n"
      ]
    },
    {
      "cell_type": "code",
      "execution_count": null,
      "metadata": {
        "colab": {
          "base_uri": "https://localhost:8080/",
          "height": 320
        },
        "id": "GakRw7cGw78M",
        "outputId": "d142babf-d14d-4993-bc5e-dc9ffa64adb2"
      },
      "outputs": [],
      "source": [
        "df.describe()"
      ]
    },
    {
      "cell_type": "code",
      "execution_count": null,
      "metadata": {
        "colab": {
          "base_uri": "https://localhost:8080/",
          "height": 429
        },
        "id": "VssH8BnWxlq7",
        "outputId": "704813ba-1ec1-4c11-9cdb-9eeed8d9ea03"
      },
      "outputs": [],
      "source": [
        "df.isnull().sum()"
      ]
    },
    {
      "cell_type": "code",
      "execution_count": null,
      "metadata": {
        "colab": {
          "base_uri": "https://localhost:8080/"
        },
        "id": "5zkt_IfGCV3E",
        "outputId": "5f4e8ae2-a46f-4708-8955-35aaee4f6083"
      },
      "outputs": [],
      "source": [
        "df = pd.read_csv('/content/sample_data/Dataset.csv.csv', sep=';', header=0)\n",
        "print(df.columns)\n"
      ]
    },
    {
      "cell_type": "code",
      "execution_count": null,
      "metadata": {
        "colab": {
          "base_uri": "https://localhost:8080/",
          "height": 617
        },
        "id": "7n54rDvDDQz5",
        "outputId": "db1a88ea-d102-4094-ba52-f9307decc651"
      },
      "outputs": [],
      "source": [
        "df['date'] = pd.to_datetime(df['date'], format='%d.%m.%Y')\n",
        "df"
      ]
    },
    {
      "cell_type": "code",
      "execution_count": null,
      "metadata": {
        "colab": {
          "base_uri": "https://localhost:8080/"
        },
        "id": "vXC907zjyt8r",
        "outputId": "bbc1e5ca-7eff-4ab7-ab28-544e6c5497c0"
      },
      "outputs": [],
      "source": [
        "df.info()"
      ]
    },
    {
      "cell_type": "code",
      "execution_count": null,
      "metadata": {
        "colab": {
          "base_uri": "https://localhost:8080/",
          "height": 293
        },
        "id": "uqSSR4Dkyw9N",
        "outputId": "312e8b87-d2f5-486c-c6cb-f79dcdeabfae"
      },
      "outputs": [],
      "source": [
        "df=df.sort_values(by=['id','date'])\n",
        "df.head()"
      ]
    },
    {
      "cell_type": "code",
      "execution_count": null,
      "metadata": {
        "colab": {
          "base_uri": "https://localhost:8080/",
          "height": 313
        },
        "id": "I5MyFcWrzWSe",
        "outputId": "c075bdf9-f720-4afa-e228-8383fa086086"
      },
      "outputs": [],
      "source": [
        "df['year']=df['date'].dt.year\n",
        "df['month']=df['date'].dt.month\n",
        "df.head()"
      ]
    },
    {
      "cell_type": "code",
      "execution_count": null,
      "metadata": {
        "colab": {
          "base_uri": "https://localhost:8080/"
        },
        "id": "XARY9w2fz9Q8",
        "outputId": "cd004d8d-18e2-405f-87c5-6236a628f450"
      },
      "outputs": [
        {
          "ename": "",
          "evalue": "",
          "output_type": "error",
          "traceback": [
            "\u001b[1;31mRunning cells with 'Python 3.12.4' requires the ipykernel package.\n",
            "\u001b[1;31mRun the following command to install 'ipykernel' into the Python environment. \n",
            "\u001b[1;31mCommand: 'c:/Users/HP/AppData/Local/Programs/Python/Python312/python.exe -m pip install ipykernel -U --user --force-reinstall'"
          ]
        }
      ],
      "source": [
        "df.columns"
      ]
    },
    {
      "cell_type": "code",
      "execution_count": 160,
      "metadata": {
        "id": "Kw3-BDEB0CX9"
      },
      "outputs": [],
      "source": [
        "pollutants=[ 'O2', 'NO3', 'NO2', 'SO4', 'PO4', 'CL']"
      ]
    },
    {
      "cell_type": "markdown",
      "metadata": {
        "id": "BZ2GcbPq15Vn"
      },
      "source": [
        "## Week 2 - 23 June 2025"
      ]
    },
    {
      "cell_type": "code",
      "execution_count": null,
      "metadata": {
        "colab": {
          "base_uri": "https://localhost:8080/",
          "height": 313
        },
        "id": "QGKwXqj72AHB",
        "outputId": "0fd5976a-e3a4-41a0-d1f5-d8b8cbc0cbe8"
      },
      "outputs": [],
      "source": [
        "df=df.dropna(subset=pollutants)\n",
        "df.head()"
      ]
    },
    {
      "cell_type": "code",
      "execution_count": null,
      "metadata": {
        "colab": {
          "base_uri": "https://localhost:8080/",
          "height": 491
        },
        "id": "8qfrkutG2Yus",
        "outputId": "c609b069-bc50-4737-bc51-798e4b676239"
      },
      "outputs": [],
      "source": [
        "df.isnull().sum()"
      ]
    },
    {
      "cell_type": "code",
      "execution_count": 163,
      "metadata": {
        "id": "hQ4cgCiX2yEB"
      },
      "outputs": [],
      "source": [
        "# feature and target selection\n",
        "X=df[['id','year']]\n",
        "y=df[pollutants]"
      ]
    },
    {
      "cell_type": "code",
      "execution_count": 164,
      "metadata": {
        "id": "uVdmPfWb3GWw"
      },
      "outputs": [],
      "source": [
        "# encoding\n",
        "X_encoded=pd.get_dummies(X,columns=['id'],drop_first=True)"
      ]
    },
    {
      "cell_type": "code",
      "execution_count": 165,
      "metadata": {
        "id": "RsSkQsLz3ZTb"
      },
      "outputs": [],
      "source": [
        "# Train,test and split\n",
        "X_train,X_test,y_train,y_test=train_test_split(\n",
        "    X_encoded,y,test_size=0.2,random_state=42\n",
        ")\n"
      ]
    },
    {
      "cell_type": "code",
      "execution_count": null,
      "metadata": {
        "colab": {
          "base_uri": "https://localhost:8080/",
          "height": 164
        },
        "id": "T8GHhtO36AD8",
        "outputId": "50a5ceb2-6cce-40bd-e27a-b61513f6fb4f"
      },
      "outputs": [],
      "source": [
        "# train the model\n",
        "model=MultiOutputRegressor(RandomForestRegressor(n_estimators=100,random_state=42))\n",
        "model.fit(X_train,y_train)"
      ]
    },
    {
      "cell_type": "code",
      "execution_count": 167,
      "metadata": {
        "id": "yOuv7JEW7qPm"
      },
      "outputs": [],
      "source": [
        "# Evaluate the model\n",
        "y_pred = model.predict(X_test)\n"
      ]
    },
    {
      "cell_type": "code",
      "execution_count": null,
      "metadata": {
        "colab": {
          "base_uri": "https://localhost:8080/"
        },
        "id": "CK6iTZQQ8wBy",
        "outputId": "adb64c09-b1d7-440e-d8d9-0c8ac61fb8fd"
      },
      "outputs": [],
      "source": [
        "print(\"Model Performance on the Test Data:\")\n",
        "for i, pollutant in enumerate(pollutants):\n",
        "    print(f'{pollutant}:')\n",
        "    print('    MSE:', mean_squared_error(y_test.iloc[:, i], y_pred[:, i]))\n",
        "    print('    R2:', r2_score(y_test.iloc[:, i], y_pred[:, i]))\n",
        "    print()\n"
      ]
    },
    {
      "cell_type": "code",
      "execution_count": null,
      "metadata": {
        "colab": {
          "base_uri": "https://localhost:8080/"
        },
        "id": "SRyGyGDTAYgV",
        "outputId": "c161296e-75a0-4eea-df05-21dd9014a364"
      },
      "outputs": [],
      "source": [
        "station_id='22'\n",
        "year_input=2024\n",
        "input_data=pd.DataFrame({'year':[year_input],'id':[station_id]})\n",
        "input_encoded=pd.get_dummies(input_data,columns=['id'])\n",
        "\n",
        "# align with training feature columns\n",
        "missing_cols=set(X_encoded.columns)-set(input_encoded.columns)\n",
        "for col in missing_cols:\n",
        "  input_encoded[col]=0\n",
        "input_encoded=input_encoded[X_encoded.columns]\n",
        "\n",
        "#Predict pollutants\n",
        "predicted_pollutants=model.predict(input_encoded)[0]\n",
        "\n",
        "print(f\"\\nPredicted pollutant levels for station '{station_id}' in {year_input}:\")\n",
        "for p,val in zip(pollutants,predicted_pollutants):\n",
        "  print(f\"  {p}:  {val:2f}\")"
      ]
    },
    {
      "cell_type": "code",
      "execution_count": null,
      "metadata": {
        "colab": {
          "base_uri": "https://localhost:8080/"
        },
        "id": "-M783C42C5F9",
        "outputId": "3ebd375c-0b63-4fe6-e139-2ac341b256d4"
      },
      "outputs": [],
      "source": [
        "import joblib\n",
        "\n",
        "joblib.dump(model,'pollution_model.pkl')\n",
        "joblib.dump(X_encoded.columns.tolist(),\"model_columns.pkl\")\n",
        "print('Model and cols structure are saved')"
      ]
    }
  ],
  "metadata": {
    "colab": {
      "provenance": []
    },
    "kernelspec": {
      "display_name": "Python 3",
      "name": "python3"
    },
    "language_info": {
      "name": "python",
      "version": "3.12.4"
    }
  },
  "nbformat": 4,
  "nbformat_minor": 0
}
